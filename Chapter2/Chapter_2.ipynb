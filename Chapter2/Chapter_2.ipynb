{
  "nbformat": 4,
  "nbformat_minor": 0,
  "metadata": {
    "colab": {
      "private_outputs": true,
      "provenance": [],
      "include_colab_link": true
    },
    "kernelspec": {
      "name": "python3",
      "display_name": "Python 3"
    },
    "language_info": {
      "name": "python"
    }
  },
  "cells": [
    {
      "cell_type": "markdown",
      "metadata": {
        "id": "view-in-github",
        "colab_type": "text"
      },
      "source": [
        "<a href=\"https://colab.research.google.com/github/trc2573tabl/low-code-book-project/blob/main/Chapter2/Chapter_2.ipynb\" target=\"_parent\"><img src=\"https://colab.research.google.com/assets/colab-badge.svg\" alt=\"Open In Colab\"/></a>"
      ]
    },
    {
      "cell_type": "code",
      "execution_count": null,
      "metadata": {
        "id": "ppBjVndpDjZX"
      },
      "outputs": [],
      "source": [
        "# Import Pandas\n",
        "import pandas as pd"
      ]
    },
    {
      "cell_type": "code",
      "source": [
        "# Download \"Heart Disease Mortality Data Among US Adults (35+) by\n",
        "# State/Territory and County -- 2018-2020\" dataset from CDC and load\n",
        "# into a Pandas dataframe.\n",
        "\n",
        "url = 'https://data.cdc.gov/api/views/jiwm-ppbh/rows.csv?accessType=DOWNLOAD'\n",
        "heart_df = pd.read_csv(url, index_col=0)"
      ],
      "metadata": {
        "id": "Lvxwax94DwfO"
      },
      "execution_count": null,
      "outputs": []
    },
    {
      "cell_type": "code",
      "source": [
        "# Use head() method to view first five rows of hear_df\n",
        "\n",
        "heart_df.head()"
      ],
      "metadata": {
        "id": "DKL9QmLJEZHd"
      },
      "execution_count": null,
      "outputs": []
    },
    {
      "cell_type": "code",
      "source": [
        "# Use the info() method to see information for each column in the heart_df dataframe.\n",
        "\n",
        "heart_df.info()"
      ],
      "metadata": {
        "id": "fHTrIT_tE1yU"
      },
      "execution_count": null,
      "outputs": []
    },
    {
      "cell_type": "code",
      "source": [
        "# Cell to download CSV file from CDC to Colab Notebook environment.\n",
        "\n",
        "# Note: The directions ask you in Chapter 2 to download this directly from the CDC website and then\n",
        "# upload the file to the Colab enviornment using the directions in Chapter 2. Please follow these\n",
        "# directions your first time through this exercise as this code will be explained in Chapter 8.\n",
        "\n",
        "!wget $url -O ./heart.csv\n"
      ],
      "metadata": {
        "id": "Vay8qlZPFB41"
      },
      "execution_count": null,
      "outputs": []
    },
    {
      "cell_type": "code",
      "source": [
        "# Load downloaded CSV from CDC website into a Pandas Dataframe and view the first five lines.\n",
        "\n",
        "heart_df = pd.read_csv('/content/heart.csv', error_bad_lines=False,\n",
        "                       engine=\"python\")\n",
        "\n",
        "heart_df.head()"
      ],
      "metadata": {
        "id": "ty0a2CAJHVD0"
      },
      "execution_count": null,
      "outputs": []
    },
    {
      "cell_type": "code",
      "source": [
        "# Use the info() method to see information for each column in the heart_df dataframe.\n",
        "# Note: The exact values of this cell may differ from the values shown in Chapter 2\n",
        "# depending on when this notebook is executed.\n",
        "\n",
        "heart_df.info()"
      ],
      "metadata": {
        "id": "9ewioa8mIBSg"
      },
      "execution_count": null,
      "outputs": []
    },
    {
      "cell_type": "code",
      "source": [
        "# Compute the number of Null values in each column of the heart_df dataframe.\n",
        "\n",
        "heart_df.isnull().sum()"
      ],
      "metadata": {
        "id": "5Tnr16L-IhVN"
      },
      "execution_count": null,
      "outputs": []
    },
    {
      "cell_type": "code",
      "source": [
        "# List the unique values of the Stratification2 column in the heart_df dataframe.\n",
        "\n",
        "# Q: What do you think this column could represent?\n",
        "\n",
        "heart_df.Stratification2.unique()"
      ],
      "metadata": {
        "id": "LfdT5dW5JB52"
      },
      "execution_count": null,
      "outputs": []
    },
    {
      "cell_type": "code",
      "source": [
        "# Use Seaborn to draw a violin plot for the Stratification2 feature.\n",
        "\n",
        "import seaborn as sns\n",
        "sns.violinplot(x='Data_Value', y='Stratification2', data=heart_df)"
      ],
      "metadata": {
        "id": "JjnZoGvKJegm"
      },
      "execution_count": null,
      "outputs": []
    },
    {
      "cell_type": "code",
      "source": [],
      "metadata": {
        "id": "n-Ja32u4KYkj"
      },
      "execution_count": null,
      "outputs": []
    }
  ]
}